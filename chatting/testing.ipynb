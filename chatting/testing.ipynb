{
 "cells": [
  {
   "cell_type": "code",
   "execution_count": 1,
   "metadata": {},
   "outputs": [],
   "source": [
    "from datetime import datetime"
   ]
  },
  {
   "cell_type": "code",
   "execution_count": 9,
   "metadata": {},
   "outputs": [
    {
     "data": {
      "text/plain": [
       "datetime.datetime(2021, 5, 27, 23, 36, 14, 438233)"
      ]
     },
     "execution_count": 9,
     "metadata": {},
     "output_type": "execute_result"
    }
   ],
   "source": [
    "dt = datetime.now() \n",
    "dt"
   ]
  },
  {
   "cell_type": "code",
   "execution_count": 10,
   "metadata": {},
   "outputs": [
    {
     "data": {
      "text/plain": [
       "'2021-05-27 23:36:14.438233'"
      ]
     },
     "execution_count": 10,
     "metadata": {},
     "output_type": "execute_result"
    }
   ],
   "source": [
    "str(dt) "
   ]
  },
  {
   "cell_type": "code",
   "execution_count": 12,
   "metadata": {},
   "outputs": [
    {
     "data": {
      "text/plain": [
       "'2021-05-27'"
      ]
     },
     "execution_count": 12,
     "metadata": {},
     "output_type": "execute_result"
    }
   ],
   "source": [
    "d = str(dt).split()[0]\n",
    "d"
   ]
  },
  {
   "cell_type": "code",
   "execution_count": 15,
   "metadata": {},
   "outputs": [
    {
     "data": {
      "text/plain": [
       "'23:36:14'"
      ]
     },
     "execution_count": 15,
     "metadata": {},
     "output_type": "execute_result"
    }
   ],
   "source": [
    "t = str(dt).split()[1].split('.')[0] \n",
    "t"
   ]
  },
  {
   "cell_type": "code",
   "execution_count": 16,
   "metadata": {},
   "outputs": [
    {
     "name": "stdout",
     "output_type": "stream",
     "text": [
      "Your Computer Name is:LAPTOP-HDJL6CHO\n",
      "Your Computer IP Address is:192.168.1.100\n"
     ]
    }
   ],
   "source": [
    "import socket    \n",
    "hostname = socket.gethostname()    \n",
    "IPAddr = socket.gethostbyname(hostname)    \n",
    "print(\"Your Computer Name is:\" + hostname)    \n",
    "print(\"Your Computer IP Address is:\" + IPAddr)"
   ]
  },
  {
   "cell_type": "code",
   "execution_count": 25,
   "metadata": {},
   "outputs": [
    {
     "data": {
      "text/plain": [
       "'192 168 1 100'"
      ]
     },
     "execution_count": 25,
     "metadata": {},
     "output_type": "execute_result"
    }
   ],
   "source": [
    "ip = ' '.join(IPAddr.split('.'))\n",
    "ip"
   ]
  },
  {
   "cell_type": "code",
   "execution_count": 27,
   "metadata": {
    "scrolled": true
   },
   "outputs": [
    {
     "name": "stdout",
     "output_type": "stream",
     "text": [
      "{'2021-05-27': {'23:48:11': 'Hello', '23:48:41': 'Hi', '23:51:23@Vicks': 'Hi, my name is Vicks', '23:52:45@Vicks': 'Hi, my name is Vicks', '23:53:31@Vicks': 'Hi, my name is Vicks', '23:55:33@Vicks': 'Hi, my name is Vicks'}, '2021-05-28': {'00:00:24@Vicks': 'Hi, my name is Vicks', '00:00:56@Vicks': 'Hi, my name is Vicks', '00:01:58@Vicks': 'Hi, my name is Vicks', '00:03:02@Vicks': 'Hi, my name is Vicks', '00:05:29@ajay': 'hello', '00:05:29@vicky': 'hello', '00:08:03@vicky': 'hi', '00:08:15@ajay': 'hello, bro !!!', '00:10:37@vix': 'hey', '00:11:46@anonymous': 'wooohhhoooooo !!!!!!!!!', '00:41:49@anonymous': 'Hi, I am anonymous', '00:43:29@vix': 'Hi, I am vix', '00:45:01@vicky': 'Hi, I am vicky', '00:46:14@anonymous': 'hello', '00:53:54@LAPTOP-HDJL6CHO192 168 1 100': 'Hi, I am LAPTOP-HDJL6CHO192 168 1 100', '00:54:32@LAPTOP-HDJL6CHO192-168-1-100': 'Hi, I am LAPTOP-HDJL6CHO192-168-1-100', '00:55:32@LAPTOP-HDJL6CHO*192-168-1-100': 'Hi, I am LAPTOP-HDJL6CHO*192-168-1-100', '00:56:27@vix': 'Hi, I am vix', '00:56:48@LAPTOP-HDJL6CHO*192-168-1-100': 'hello, i am #', '00:57:05@vix': 'i am /', '01:06:56@LAPTOP-HDJL6CHO*192-168-1-100': 'Hi, I am LAPTOP-HDJL6CHO*192-168-1-100', '01:07:59@LAPTOP-HDJL6CHO*192-168-1-100': 'hello', '01:20:20@Anonymous': 'LAPTOP-HDJL6CHO*192-168-1-100 : Hi, I am Anonymous with IP : LAPTOP-HDJL6CHO*192-168-1-100', '01:24:17@vix': 'LAPTOP-HDJL6CHO*192-168-1-100 : Hi, I am Anonymous with IP : LAPTOP-HDJL6CHO*192-168-1-100', '01:26:31@vix': 'LAPTOP-HDJL6CHO*192-168-1-100 : hello', '01:38:06&LAPTOP-HDJL6CHO*192-168-1-100@Anonymous': 'Hi, I am Anonymous', '01:38:39&LAPTOP-HDJL6CHO*192-168-1-100@Anonymous': 'hi, i am vicky.', '01:38:52&LAPTOP-HDJL6CHO*192-168-1-100@vix': 'Hi, I am vix', '01:39:11&LAPTOP-HDJL6CHO*192-168-1-100@vix': 'kaisa hai tu ?', '01:42:27&LAPTOP-HDJL6CHO*192-168-1-100@Anonymous': 'Hi, I am Anonymous', '01:43:52&LAPTOP-HDJL6CHO*192-168-1-100@Anonymous': 'i am vicky', '01:48:07&LAPTOP-HDJL6CHO*192-168-1-100@Anonymous': 'Hi, I am Anonymous', '01:50:06&LAPTOP-HDJL6CHO*192-168-1-100@Anonymous': 'i am vicky', '01:50:19&LAPTOP-HDJL6CHO*192-168-1-100@Anonymous': 'Hi, I am Anonymous', '01:51:52&LAPTOP-HDJL6CHO*192-168-1-100@vicky': 'Hi, I am vicky', '01:52:25&LAPTOP-HDJL6CHO*192-168-1-100@vicky': 'Hi, I am vicky', '01:58:00&LAPTOP-HDJL6CHO*192-168-1-100@vix': 'hello', '01:58:36&LAPTOP-HDJL6CHO*192-168-1-100@Anonymous': 'hello', '01:58:45&LAPTOP-HDJL6CHO*192-168-1-100@Anonymous': 'Hi, I am Anonymous', '02:17:24&LAPTOP-HDJL6CHO*192-168-1-100@Vicky': 'kaisa hai tu ?', '02:19:28&LAPTOP-HDJL6CHO*192-168-1-100@Vicky': 'kaisa hai tu ?', '02:22:22&LAPTOP-HDJL6CHO*192-168-1-100@Vicky': 'kaisa hai tu ?', '02:22:23&LAPTOP-HDJL6CHO*192-168-1-100@Anonymous': '...hi, I am Anonymous', '02:49:30&LAPTOP-HDJL6CHO*192-168-1-100@Vicky': 'kaisa hai tu ?', '02:49:32&LAPTOP-HDJL6CHO*192-168-1-100@Anonymous': '...hi, I am Anonymous', '02:50:39&LAPTOP-HDJL6CHO*192-168-1-100@Vicky': 'kaisa hai tu ?', '02:50:40&LAPTOP-HDJL6CHO*192-168-1-100@Anonymous': '...hi, I am Anonymous', '02:52:35&LAPTOP-HDJL6CHO*192-168-1-100@Vicky': 'kaisa hai tu ?', '02:52:36&LAPTOP-HDJL6CHO*192-168-1-100@Anonymous': '...hi, I am Anonymous', '03:05:01&LAPTOP-HDJL6CHO*192-168-1-100@Vicky': 'kaisa hai tu ?', '03:05:02&LAPTOP-HDJL6CHO*192-168-1-100@Anonymous': '...hi, I am Anonymous', '03:38:23&LAPTOP-HDJL6CHO*192-168-1-100@Vicky': '...hi, I am Vicky', '03:38:25&LAPTOP-HDJL6CHO*192-168-1-100@Anonymous': '...hi, I am Anonymous', '03:53:24&LAPTOP-HDJL6CHO*192-168-1-100@Vicky': 'Hello, how are you ?', '03:54:36&LAPTOP-HDJL6CHO*192-168-1-100@Vicky': 'Hello, how are you ?', '04:16:53&LAPTOP-HDJL6CHO*192-168-1-100@Vicky Kumar ': 'Hello, how are you ??', '04:21:43&LAPTOP-HDJL6CHO*192-168-1-100@Vicky Kumar ': 'hello', '04:39:10&LAPTOP-HDJL6CHO*192-168-1-100@Vicks': '', '04:43:32&LAPTOP-HDJL6CHO*192-168-1-100@Vicks': '...hi, I am Vicks', '04:44:10&LAPTOP-HDJL6CHO*192-168-1-100@Anonymous': '...hi, I am Anonymous'}}\n"
     ]
    }
   ],
   "source": [
    "import crud\n",
    "\n",
    "obj1 = crud.vicks('@Hey_Vicks', name = 'Vicky')\n",
    "data = obj1.pull('Group/Chat')\n",
    "\n",
    "print(data)"
   ]
  },
  {
   "cell_type": "code",
   "execution_count": 28,
   "metadata": {},
   "outputs": [
    {
     "data": {
      "text/plain": [
       "dict"
      ]
     },
     "execution_count": 28,
     "metadata": {},
     "output_type": "execute_result"
    }
   ],
   "source": [
    "type(data) "
   ]
  },
  {
   "cell_type": "code",
   "execution_count": 29,
   "metadata": {},
   "outputs": [
    {
     "data": {
      "text/plain": [
       "dict_keys(['2021-05-27', '2021-05-28'])"
      ]
     },
     "execution_count": 29,
     "metadata": {},
     "output_type": "execute_result"
    }
   ],
   "source": [
    "data.keys() "
   ]
  },
  {
   "cell_type": "code",
   "execution_count": null,
   "metadata": {},
   "outputs": [],
   "source": []
  }
 ],
 "metadata": {
  "kernelspec": {
   "display_name": "Python 3",
   "language": "python",
   "name": "python3"
  },
  "language_info": {
   "codemirror_mode": {
    "name": "ipython",
    "version": 3
   },
   "file_extension": ".py",
   "mimetype": "text/x-python",
   "name": "python",
   "nbconvert_exporter": "python",
   "pygments_lexer": "ipython3",
   "version": "3.8.3"
  }
 },
 "nbformat": 4,
 "nbformat_minor": 4
}
